{
 "cells": [
  {
   "cell_type": "code",
   "execution_count": 1,
   "id": "ca4168bb",
   "metadata": {},
   "outputs": [],
   "source": [
    "import pandas as pd\n",
    "import numpy as np\n",
    "from sklearn.linear_model import LinearRegression\n",
    "from sklearn.model_selection import train_test_split\n",
    "from sklearn.metrics import r2_score,mean_absolute_error,mean_squared_error\n",
    "import json\n",
    "import pickle\n",
    "import warnings\n",
    "warnings.filterwarnings('ignore')"
   ]
  },
  {
   "cell_type": "code",
   "execution_count": 2,
   "id": "a44d6961",
   "metadata": {},
   "outputs": [],
   "source": [
    "df = pd.read_csv('medical_insurance.csv')"
   ]
  },
  {
   "cell_type": "code",
   "execution_count": 3,
   "id": "31a5526a",
   "metadata": {},
   "outputs": [
    {
     "name": "stdout",
     "output_type": "stream",
     "text": [
      "<class 'pandas.core.frame.DataFrame'>\n",
      "RangeIndex: 1338 entries, 0 to 1337\n",
      "Data columns (total 7 columns):\n",
      " #   Column    Non-Null Count  Dtype  \n",
      "---  ------    --------------  -----  \n",
      " 0   age       1338 non-null   int64  \n",
      " 1   gender    1338 non-null   object \n",
      " 2   bmi       1338 non-null   float64\n",
      " 3   children  1338 non-null   int64  \n",
      " 4   smoker    1338 non-null   object \n",
      " 5   region    1338 non-null   object \n",
      " 6   charges   1338 non-null   float64\n",
      "dtypes: float64(2), int64(2), object(3)\n",
      "memory usage: 73.3+ KB\n"
     ]
    }
   ],
   "source": [
    "df.info()\n"
   ]
  },
  {
   "cell_type": "markdown",
   "id": "1eed67d1",
   "metadata": {},
   "source": [
    "### EDA"
   ]
  },
  {
   "cell_type": "code",
   "execution_count": null,
   "id": "444f07bf",
   "metadata": {},
   "outputs": [],
   "source": []
  },
  {
   "cell_type": "markdown",
   "id": "65227c4e",
   "metadata": {},
   "source": [
    "#### 1. gender"
   ]
  },
  {
   "cell_type": "code",
   "execution_count": 4,
   "id": "c05a296c",
   "metadata": {},
   "outputs": [
    {
     "data": {
      "text/plain": [
       "{'male': 676, 'female': 662}"
      ]
     },
     "execution_count": 4,
     "metadata": {},
     "output_type": "execute_result"
    }
   ],
   "source": [
    "df['gender'].value_counts().to_dict()"
   ]
  },
  {
   "cell_type": "code",
   "execution_count": 5,
   "id": "00ed06a4",
   "metadata": {},
   "outputs": [],
   "source": [
    "df['gender'].replace({'male': 1, 'female': 0},inplace=True)\n"
   ]
  },
  {
   "cell_type": "code",
   "execution_count": 6,
   "id": "6c80c4e0",
   "metadata": {},
   "outputs": [
    {
     "data": {
      "text/plain": [
       "0       0\n",
       "1       1\n",
       "2       1\n",
       "3       1\n",
       "4       1\n",
       "       ..\n",
       "1333    1\n",
       "1334    0\n",
       "1335    0\n",
       "1336    0\n",
       "1337    0\n",
       "Name: gender, Length: 1338, dtype: int64"
      ]
     },
     "execution_count": 6,
     "metadata": {},
     "output_type": "execute_result"
    }
   ],
   "source": [
    "df['gender']"
   ]
  },
  {
   "cell_type": "markdown",
   "id": "bf2194c4",
   "metadata": {},
   "source": [
    "#### 2. smoker"
   ]
  },
  {
   "cell_type": "code",
   "execution_count": 7,
   "id": "3d2ab7a8",
   "metadata": {},
   "outputs": [
    {
     "data": {
      "text/plain": [
       "smoker\n",
       "no     1064\n",
       "yes     274\n",
       "Name: count, dtype: int64"
      ]
     },
     "execution_count": 7,
     "metadata": {},
     "output_type": "execute_result"
    }
   ],
   "source": [
    "\n",
    "df['smoker'].value_counts()"
   ]
  },
  {
   "cell_type": "code",
   "execution_count": 8,
   "id": "90bb0732",
   "metadata": {},
   "outputs": [
    {
     "data": {
      "text/plain": [
       "{'no': 1064, 'yes': 274}"
      ]
     },
     "execution_count": 8,
     "metadata": {},
     "output_type": "execute_result"
    }
   ],
   "source": [
    "\n",
    "df['smoker'].value_counts().to_dict()"
   ]
  },
  {
   "cell_type": "code",
   "execution_count": 9,
   "id": "31e5c13d",
   "metadata": {},
   "outputs": [],
   "source": [
    "df['smoker'].replace({'no': 0, 'yes': 1},inplace=True)"
   ]
  },
  {
   "cell_type": "code",
   "execution_count": 10,
   "id": "0ca3da91",
   "metadata": {},
   "outputs": [
    {
     "name": "stdout",
     "output_type": "stream",
     "text": [
      "<class 'pandas.core.frame.DataFrame'>\n",
      "RangeIndex: 1338 entries, 0 to 1337\n",
      "Data columns (total 7 columns):\n",
      " #   Column    Non-Null Count  Dtype  \n",
      "---  ------    --------------  -----  \n",
      " 0   age       1338 non-null   int64  \n",
      " 1   gender    1338 non-null   int64  \n",
      " 2   bmi       1338 non-null   float64\n",
      " 3   children  1338 non-null   int64  \n",
      " 4   smoker    1338 non-null   int64  \n",
      " 5   region    1338 non-null   object \n",
      " 6   charges   1338 non-null   float64\n",
      "dtypes: float64(2), int64(4), object(1)\n",
      "memory usage: 73.3+ KB\n"
     ]
    }
   ],
   "source": [
    "df.info()"
   ]
  },
  {
   "cell_type": "markdown",
   "id": "666575c1",
   "metadata": {},
   "source": [
    "#### 3. region"
   ]
  },
  {
   "cell_type": "code",
   "execution_count": 11,
   "id": "641018a7",
   "metadata": {},
   "outputs": [
    {
     "data": {
      "text/plain": [
       "region\n",
       "southeast    364\n",
       "southwest    325\n",
       "northwest    325\n",
       "northeast    324\n",
       "Name: count, dtype: int64"
      ]
     },
     "execution_count": 11,
     "metadata": {},
     "output_type": "execute_result"
    }
   ],
   "source": [
    "df['region'].value_counts()"
   ]
  },
  {
   "cell_type": "code",
   "execution_count": 12,
   "id": "9974a418",
   "metadata": {},
   "outputs": [
    {
     "data": {
      "text/plain": [
       "{'southeast': 364, 'southwest': 325, 'northwest': 325, 'northeast': 324}"
      ]
     },
     "execution_count": 12,
     "metadata": {},
     "output_type": "execute_result"
    }
   ],
   "source": [
    "df['region'].value_counts().to_dict()"
   ]
  },
  {
   "cell_type": "code",
   "execution_count": 13,
   "id": "3b1ea374",
   "metadata": {},
   "outputs": [],
   "source": [
    "df = pd.get_dummies(df,columns=['region'],dtype=int)"
   ]
  },
  {
   "cell_type": "code",
   "execution_count": 14,
   "id": "492ce4cf",
   "metadata": {
    "scrolled": true
   },
   "outputs": [
    {
     "data": {
      "text/html": [
       "<div>\n",
       "<style scoped>\n",
       "    .dataframe tbody tr th:only-of-type {\n",
       "        vertical-align: middle;\n",
       "    }\n",
       "\n",
       "    .dataframe tbody tr th {\n",
       "        vertical-align: top;\n",
       "    }\n",
       "\n",
       "    .dataframe thead th {\n",
       "        text-align: right;\n",
       "    }\n",
       "</style>\n",
       "<table border=\"1\" class=\"dataframe\">\n",
       "  <thead>\n",
       "    <tr style=\"text-align: right;\">\n",
       "      <th></th>\n",
       "      <th>age</th>\n",
       "      <th>gender</th>\n",
       "      <th>bmi</th>\n",
       "      <th>children</th>\n",
       "      <th>smoker</th>\n",
       "      <th>charges</th>\n",
       "      <th>region_northeast</th>\n",
       "      <th>region_northwest</th>\n",
       "      <th>region_southeast</th>\n",
       "      <th>region_southwest</th>\n",
       "    </tr>\n",
       "  </thead>\n",
       "  <tbody>\n",
       "    <tr>\n",
       "      <th>0</th>\n",
       "      <td>19</td>\n",
       "      <td>0</td>\n",
       "      <td>27.900</td>\n",
       "      <td>0</td>\n",
       "      <td>1</td>\n",
       "      <td>16884.92400</td>\n",
       "      <td>0</td>\n",
       "      <td>0</td>\n",
       "      <td>0</td>\n",
       "      <td>1</td>\n",
       "    </tr>\n",
       "    <tr>\n",
       "      <th>1</th>\n",
       "      <td>18</td>\n",
       "      <td>1</td>\n",
       "      <td>33.770</td>\n",
       "      <td>1</td>\n",
       "      <td>0</td>\n",
       "      <td>1725.55230</td>\n",
       "      <td>0</td>\n",
       "      <td>0</td>\n",
       "      <td>1</td>\n",
       "      <td>0</td>\n",
       "    </tr>\n",
       "    <tr>\n",
       "      <th>2</th>\n",
       "      <td>28</td>\n",
       "      <td>1</td>\n",
       "      <td>33.000</td>\n",
       "      <td>3</td>\n",
       "      <td>0</td>\n",
       "      <td>4449.46200</td>\n",
       "      <td>0</td>\n",
       "      <td>0</td>\n",
       "      <td>1</td>\n",
       "      <td>0</td>\n",
       "    </tr>\n",
       "    <tr>\n",
       "      <th>3</th>\n",
       "      <td>33</td>\n",
       "      <td>1</td>\n",
       "      <td>22.705</td>\n",
       "      <td>0</td>\n",
       "      <td>0</td>\n",
       "      <td>21984.47061</td>\n",
       "      <td>0</td>\n",
       "      <td>1</td>\n",
       "      <td>0</td>\n",
       "      <td>0</td>\n",
       "    </tr>\n",
       "    <tr>\n",
       "      <th>4</th>\n",
       "      <td>32</td>\n",
       "      <td>1</td>\n",
       "      <td>28.880</td>\n",
       "      <td>0</td>\n",
       "      <td>0</td>\n",
       "      <td>3866.85520</td>\n",
       "      <td>0</td>\n",
       "      <td>1</td>\n",
       "      <td>0</td>\n",
       "      <td>0</td>\n",
       "    </tr>\n",
       "    <tr>\n",
       "      <th>...</th>\n",
       "      <td>...</td>\n",
       "      <td>...</td>\n",
       "      <td>...</td>\n",
       "      <td>...</td>\n",
       "      <td>...</td>\n",
       "      <td>...</td>\n",
       "      <td>...</td>\n",
       "      <td>...</td>\n",
       "      <td>...</td>\n",
       "      <td>...</td>\n",
       "    </tr>\n",
       "    <tr>\n",
       "      <th>1333</th>\n",
       "      <td>50</td>\n",
       "      <td>1</td>\n",
       "      <td>30.970</td>\n",
       "      <td>3</td>\n",
       "      <td>0</td>\n",
       "      <td>10600.54830</td>\n",
       "      <td>0</td>\n",
       "      <td>1</td>\n",
       "      <td>0</td>\n",
       "      <td>0</td>\n",
       "    </tr>\n",
       "    <tr>\n",
       "      <th>1334</th>\n",
       "      <td>18</td>\n",
       "      <td>0</td>\n",
       "      <td>31.920</td>\n",
       "      <td>0</td>\n",
       "      <td>0</td>\n",
       "      <td>2205.98080</td>\n",
       "      <td>1</td>\n",
       "      <td>0</td>\n",
       "      <td>0</td>\n",
       "      <td>0</td>\n",
       "    </tr>\n",
       "    <tr>\n",
       "      <th>1335</th>\n",
       "      <td>18</td>\n",
       "      <td>0</td>\n",
       "      <td>36.850</td>\n",
       "      <td>0</td>\n",
       "      <td>0</td>\n",
       "      <td>1629.83350</td>\n",
       "      <td>0</td>\n",
       "      <td>0</td>\n",
       "      <td>1</td>\n",
       "      <td>0</td>\n",
       "    </tr>\n",
       "    <tr>\n",
       "      <th>1336</th>\n",
       "      <td>21</td>\n",
       "      <td>0</td>\n",
       "      <td>25.800</td>\n",
       "      <td>0</td>\n",
       "      <td>0</td>\n",
       "      <td>2007.94500</td>\n",
       "      <td>0</td>\n",
       "      <td>0</td>\n",
       "      <td>0</td>\n",
       "      <td>1</td>\n",
       "    </tr>\n",
       "    <tr>\n",
       "      <th>1337</th>\n",
       "      <td>61</td>\n",
       "      <td>0</td>\n",
       "      <td>29.070</td>\n",
       "      <td>0</td>\n",
       "      <td>1</td>\n",
       "      <td>29141.36030</td>\n",
       "      <td>0</td>\n",
       "      <td>1</td>\n",
       "      <td>0</td>\n",
       "      <td>0</td>\n",
       "    </tr>\n",
       "  </tbody>\n",
       "</table>\n",
       "<p>1338 rows × 10 columns</p>\n",
       "</div>"
      ],
      "text/plain": [
       "      age  gender     bmi  children  smoker      charges  region_northeast   \n",
       "0      19       0  27.900         0       1  16884.92400                 0  \\\n",
       "1      18       1  33.770         1       0   1725.55230                 0   \n",
       "2      28       1  33.000         3       0   4449.46200                 0   \n",
       "3      33       1  22.705         0       0  21984.47061                 0   \n",
       "4      32       1  28.880         0       0   3866.85520                 0   \n",
       "...   ...     ...     ...       ...     ...          ...               ...   \n",
       "1333   50       1  30.970         3       0  10600.54830                 0   \n",
       "1334   18       0  31.920         0       0   2205.98080                 1   \n",
       "1335   18       0  36.850         0       0   1629.83350                 0   \n",
       "1336   21       0  25.800         0       0   2007.94500                 0   \n",
       "1337   61       0  29.070         0       1  29141.36030                 0   \n",
       "\n",
       "      region_northwest  region_southeast  region_southwest  \n",
       "0                    0                 0                 1  \n",
       "1                    0                 1                 0  \n",
       "2                    0                 1                 0  \n",
       "3                    1                 0                 0  \n",
       "4                    1                 0                 0  \n",
       "...                ...               ...               ...  \n",
       "1333                 1                 0                 0  \n",
       "1334                 0                 0                 0  \n",
       "1335                 0                 1                 0  \n",
       "1336                 0                 0                 1  \n",
       "1337                 1                 0                 0  \n",
       "\n",
       "[1338 rows x 10 columns]"
      ]
     },
     "execution_count": 14,
     "metadata": {},
     "output_type": "execute_result"
    }
   ],
   "source": [
    "df"
   ]
  },
  {
   "cell_type": "markdown",
   "id": "30852f53",
   "metadata": {},
   "source": [
    "## model training"
   ]
  },
  {
   "cell_type": "code",
   "execution_count": 15,
   "id": "c5fc2434",
   "metadata": {},
   "outputs": [],
   "source": [
    "x = df.drop('charges',axis=1)\n",
    "y = df['charges']\n",
    "x_train,x_test,y_train,y_test = train_test_split(x,y,test_size=0.2,random_state=13)"
   ]
  },
  {
   "cell_type": "code",
   "execution_count": 16,
   "id": "a5c83412",
   "metadata": {},
   "outputs": [
    {
     "data": {
      "text/html": [
       "<style>#sk-container-id-1 {color: black;background-color: white;}#sk-container-id-1 pre{padding: 0;}#sk-container-id-1 div.sk-toggleable {background-color: white;}#sk-container-id-1 label.sk-toggleable__label {cursor: pointer;display: block;width: 100%;margin-bottom: 0;padding: 0.3em;box-sizing: border-box;text-align: center;}#sk-container-id-1 label.sk-toggleable__label-arrow:before {content: \"▸\";float: left;margin-right: 0.25em;color: #696969;}#sk-container-id-1 label.sk-toggleable__label-arrow:hover:before {color: black;}#sk-container-id-1 div.sk-estimator:hover label.sk-toggleable__label-arrow:before {color: black;}#sk-container-id-1 div.sk-toggleable__content {max-height: 0;max-width: 0;overflow: hidden;text-align: left;background-color: #f0f8ff;}#sk-container-id-1 div.sk-toggleable__content pre {margin: 0.2em;color: black;border-radius: 0.25em;background-color: #f0f8ff;}#sk-container-id-1 input.sk-toggleable__control:checked~div.sk-toggleable__content {max-height: 200px;max-width: 100%;overflow: auto;}#sk-container-id-1 input.sk-toggleable__control:checked~label.sk-toggleable__label-arrow:before {content: \"▾\";}#sk-container-id-1 div.sk-estimator input.sk-toggleable__control:checked~label.sk-toggleable__label {background-color: #d4ebff;}#sk-container-id-1 div.sk-label input.sk-toggleable__control:checked~label.sk-toggleable__label {background-color: #d4ebff;}#sk-container-id-1 input.sk-hidden--visually {border: 0;clip: rect(1px 1px 1px 1px);clip: rect(1px, 1px, 1px, 1px);height: 1px;margin: -1px;overflow: hidden;padding: 0;position: absolute;width: 1px;}#sk-container-id-1 div.sk-estimator {font-family: monospace;background-color: #f0f8ff;border: 1px dotted black;border-radius: 0.25em;box-sizing: border-box;margin-bottom: 0.5em;}#sk-container-id-1 div.sk-estimator:hover {background-color: #d4ebff;}#sk-container-id-1 div.sk-parallel-item::after {content: \"\";width: 100%;border-bottom: 1px solid gray;flex-grow: 1;}#sk-container-id-1 div.sk-label:hover label.sk-toggleable__label {background-color: #d4ebff;}#sk-container-id-1 div.sk-serial::before {content: \"\";position: absolute;border-left: 1px solid gray;box-sizing: border-box;top: 0;bottom: 0;left: 50%;z-index: 0;}#sk-container-id-1 div.sk-serial {display: flex;flex-direction: column;align-items: center;background-color: white;padding-right: 0.2em;padding-left: 0.2em;position: relative;}#sk-container-id-1 div.sk-item {position: relative;z-index: 1;}#sk-container-id-1 div.sk-parallel {display: flex;align-items: stretch;justify-content: center;background-color: white;position: relative;}#sk-container-id-1 div.sk-item::before, #sk-container-id-1 div.sk-parallel-item::before {content: \"\";position: absolute;border-left: 1px solid gray;box-sizing: border-box;top: 0;bottom: 0;left: 50%;z-index: -1;}#sk-container-id-1 div.sk-parallel-item {display: flex;flex-direction: column;z-index: 1;position: relative;background-color: white;}#sk-container-id-1 div.sk-parallel-item:first-child::after {align-self: flex-end;width: 50%;}#sk-container-id-1 div.sk-parallel-item:last-child::after {align-self: flex-start;width: 50%;}#sk-container-id-1 div.sk-parallel-item:only-child::after {width: 0;}#sk-container-id-1 div.sk-dashed-wrapped {border: 1px dashed gray;margin: 0 0.4em 0.5em 0.4em;box-sizing: border-box;padding-bottom: 0.4em;background-color: white;}#sk-container-id-1 div.sk-label label {font-family: monospace;font-weight: bold;display: inline-block;line-height: 1.2em;}#sk-container-id-1 div.sk-label-container {text-align: center;}#sk-container-id-1 div.sk-container {/* jupyter's `normalize.less` sets `[hidden] { display: none; }` but bootstrap.min.css set `[hidden] { display: none !important; }` so we also need the `!important` here to be able to override the default hidden behavior on the sphinx rendered scikit-learn.org. See: https://github.com/scikit-learn/scikit-learn/issues/21755 */display: inline-block !important;position: relative;}#sk-container-id-1 div.sk-text-repr-fallback {display: none;}</style><div id=\"sk-container-id-1\" class=\"sk-top-container\"><div class=\"sk-text-repr-fallback\"><pre>LinearRegression()</pre><b>In a Jupyter environment, please rerun this cell to show the HTML representation or trust the notebook. <br />On GitHub, the HTML representation is unable to render, please try loading this page with nbviewer.org.</b></div><div class=\"sk-container\" hidden><div class=\"sk-item\"><div class=\"sk-estimator sk-toggleable\"><input class=\"sk-toggleable__control sk-hidden--visually\" id=\"sk-estimator-id-1\" type=\"checkbox\" checked><label for=\"sk-estimator-id-1\" class=\"sk-toggleable__label sk-toggleable__label-arrow\">LinearRegression</label><div class=\"sk-toggleable__content\"><pre>LinearRegression()</pre></div></div></div></div></div>"
      ],
      "text/plain": [
       "LinearRegression()"
      ]
     },
     "execution_count": 16,
     "metadata": {},
     "output_type": "execute_result"
    }
   ],
   "source": [
    "linear_reg = LinearRegression()\n",
    "linear_reg.fit(x_train,y_train )"
   ]
  },
  {
   "cell_type": "markdown",
   "id": "513ed6fd",
   "metadata": {},
   "source": [
    "### Evaluation"
   ]
  },
  {
   "cell_type": "code",
   "execution_count": 17,
   "id": "9692c0bd",
   "metadata": {},
   "outputs": [
    {
     "data": {
      "text/plain": [
       "array([ 3600.84757824, 10353.60606981,  7247.53040669,  6661.27764925,\n",
       "        2543.96751265, 16353.71187466, 13658.07752938,  5407.47201226,\n",
       "       32184.48705221, 28661.81941062,  9181.95449826, 10326.60596382,\n",
       "        3468.81409881,  6390.60700372,  7406.40170852,  7216.07431951,\n",
       "       33337.21850759, 30435.99649089, 15041.78017196,   417.66188896,\n",
       "        7706.74587818,  5550.53832266, 28454.75485623, 14792.61767992,\n",
       "       40437.05958329, 28379.04013371, 33719.22121508,  2895.81735814,\n",
       "       10898.08517778, 15444.68848735, 12219.88584049, 28664.5614591 ,\n",
       "        2924.27600095,  7471.7696333 , 37473.40435954, 26924.3359047 ,\n",
       "        6674.21708208, 11622.9167336 , 35962.88120372,  4728.00587943,\n",
       "        8580.14434213, 18458.94344207, 10430.78103491,  8618.62862778,\n",
       "         965.43255995,  5947.80201163, 15768.93345927,  5863.38473425,\n",
       "        2336.3259301 , 10569.92039868, 32666.28905913, 33926.58292985,\n",
       "        7721.41769839,  9953.79415389, 14294.27378064,  5491.85515848,\n",
       "        7865.05089079, 34149.10329472, 17446.15793462,  3434.82768181,\n",
       "        6431.52794561, 31154.86627476,  7761.80961274, 28887.32441429,\n",
       "       13668.86793708,  5808.84363199, 29299.92199042, 13982.48038187,\n",
       "        5000.82987271, 11771.33870282,  8769.53370216,  8883.38060231,\n",
       "        9836.47872083,  3166.81624518, 16255.16226399,  7987.61022509,\n",
       "        7157.0838894 ,  2320.58172557, 31265.36927289, 10796.40172281,\n",
       "        1897.27286683,  9761.70947692, 12770.78761639, 19645.86060511,\n",
       "       12072.02985425,  1381.40488039, 16075.59315599, 11593.99852375,\n",
       "        2146.70735533,  6034.51837195,  9129.58726229,  1997.21817181,\n",
       "         -99.76365371, 31899.52472176, 14434.42175566, 10259.60092028,\n",
       "         150.15507614, 38337.70115306,  1065.60707968, 11633.86900322,\n",
       "        3061.01411745, 10363.31407783,  4549.75975518,  8787.9020726 ,\n",
       "        7443.14692938,  9761.21355075, 30145.1002013 , 28717.77153914,\n",
       "       39348.57892905, 10034.34506104,  4019.04435016, 14439.27528497,\n",
       "       36860.70447759,  1532.82882041, 35318.89724264, 23744.19508337,\n",
       "        7110.98813672,  4022.93924452, 10511.6775275 ,  6233.75690927,\n",
       "        8103.02386872, 14892.38120599, 34871.4708119 , 11985.55151054,\n",
       "       14768.0842619 , 29292.41440296, 10891.47951126,  3404.26115446,\n",
       "        9895.67111063, 11969.54900235,  3611.45028108,  9343.46925052,\n",
       "        4722.95564086, 33602.11470098, 26258.61659561,   907.63125138,\n",
       "        9504.39542236,  3172.70278947,  3674.7399777 ,  9805.05631204,\n",
       "        9388.33704071, 15507.20667452, 25255.41771434, 11339.34894384,\n",
       "        9794.79397298, 15122.38897402,  6674.74515072,  8320.60738734,\n",
       "        7906.80993542, 25376.95398087, 33309.79787943,  2223.59184673,\n",
       "         388.51283824, 23327.15365567, 39067.65867561, 31100.97848963,\n",
       "       30825.66206085, 10876.97477462,  4635.69866359,  7137.68974586,\n",
       "       10389.37152905, 10979.91167799, 11372.59624494, 11545.97691622,\n",
       "        3095.3769905 ,  1484.85207072,  7261.34943264, 29859.30226943,\n",
       "       15366.24840083,  7397.18691261, 32751.47200008,   737.98977777,\n",
       "       29178.09210742,  3051.08293915, 10588.07485126,  6203.11228665,\n",
       "        9996.32173004,  3814.80791284, 14280.3447873 , 27359.74398101,\n",
       "        6463.29698615,  4240.95959668,  6013.24493748, 13650.17012772,\n",
       "        2051.20441892,  2280.55756964,  8491.08814535,  1664.6503777 ,\n",
       "       10162.83051596, 33349.97573983, 31978.18164616,  7532.83291807,\n",
       "       36383.68101116, 10739.11309932,  4060.26649243, 25311.54506766,\n",
       "       34146.37232294,  5877.42068476, 32025.97069098,  7746.69222144,\n",
       "        9145.64790423,  1501.18865895,  3575.77675249, 10921.8134759 ,\n",
       "        2564.77011319,  5736.59840127,  7406.51219735,  6774.28824369,\n",
       "        9874.78546351, 13211.40150944,  9970.28839993,  2281.8506259 ,\n",
       "        8510.94722488, 15029.62808609,  4077.80593513,  7270.30246841,\n",
       "       10111.10171894,  6398.98293692, 13099.60579633, 32186.92413715,\n",
       "       30214.15523448,  2374.40517988, 39103.70195483,  9679.72927223,\n",
       "        9543.33150374,  -351.89145118, 37178.61231946,  7228.02927443,\n",
       "       17280.29532596,  8354.49784368,  4721.28666874,  6807.48656951,\n",
       "        3984.88738939,  7570.94515069, 26663.96713092,    87.84102371,\n",
       "       37683.65828336, 10493.75286318, 17803.98832768, 15826.9279935 ,\n",
       "        8321.95963943, 14142.67095295, 17418.3238463 ,  7197.52428867,\n",
       "       41046.57302211,  6486.64222896, 14709.65590083,  5511.70222693,\n",
       "        2293.32948115,  6535.03674566, 28245.97983561, 13510.2405135 ,\n",
       "       13717.83235781,  3172.71079506, 13569.46890815, 15138.78045122,\n",
       "        9173.30401512,  8092.41824662, 17202.12524369, 13116.40799682,\n",
       "        8065.01428642, 38913.46159374,  6142.48164708, 12934.66245328,\n",
       "       12950.73163803, 17174.18968671,  8607.83822007,  3958.95998664])"
      ]
     },
     "execution_count": 17,
     "metadata": {},
     "output_type": "execute_result"
    }
   ],
   "source": [
    "y_pred = linear_reg.predict(x_test)\n",
    "y_pred"
   ]
  },
  {
   "cell_type": "code",
   "execution_count": 18,
   "id": "bca8bdd5",
   "metadata": {},
   "outputs": [
    {
     "name": "stdout",
     "output_type": "stream",
     "text": [
      "rmse: 5344.218063789126\n",
      "mae: 3820.7706849786423\n",
      "r2_value:  0.7990637930035749\n"
     ]
    }
   ],
   "source": [
    "mse = mean_squared_error(y_test,y_pred)\n",
    "rmse = np.sqrt(mse)\n",
    "print('rmse:',rmse)\n",
    "mae = mean_absolute_error(y_test,y_pred)\n",
    "print('mae:',mae)\n",
    "r2_value = r2_score(y_test,y_pred)\n",
    "print('r2_value: ',r2_value)\n"
   ]
  },
  {
   "cell_type": "code",
   "execution_count": 19,
   "id": "d02b831e",
   "metadata": {},
   "outputs": [
    {
     "name": "stdout",
     "output_type": "stream",
     "text": [
      "rmse: 5344.218063789126\n",
      "mae: 4333.696951659548\n",
      "r2_value:  0.7385339139130735\n"
     ]
    }
   ],
   "source": [
    "y_pred_train = linear_reg.predict(x_train)\n",
    "rmse = np.sqrt(mse)\n",
    "print('rmse:',rmse)\n",
    "mae = mean_absolute_error(y_train,y_pred_train)\n",
    "print('mae:',mae)\n",
    "r2_value = r2_score(y_train,y_pred_train)\n",
    "print('r2_value: ',r2_value)\n"
   ]
  },
  {
   "cell_type": "markdown",
   "id": "afaf60e4",
   "metadata": {},
   "source": [
    "## single row testing"
   ]
  },
  {
   "cell_type": "code",
   "execution_count": null,
   "id": "0867e3cc",
   "metadata": {},
   "outputs": [],
   "source": []
  },
  {
   "cell_type": "code",
   "execution_count": 20,
   "id": "80b62c7c",
   "metadata": {},
   "outputs": [
    {
     "data": {
      "text/html": [
       "<div>\n",
       "<style scoped>\n",
       "    .dataframe tbody tr th:only-of-type {\n",
       "        vertical-align: middle;\n",
       "    }\n",
       "\n",
       "    .dataframe tbody tr th {\n",
       "        vertical-align: top;\n",
       "    }\n",
       "\n",
       "    .dataframe thead th {\n",
       "        text-align: right;\n",
       "    }\n",
       "</style>\n",
       "<table border=\"1\" class=\"dataframe\">\n",
       "  <thead>\n",
       "    <tr style=\"text-align: right;\">\n",
       "      <th></th>\n",
       "      <th>age</th>\n",
       "      <th>gender</th>\n",
       "      <th>bmi</th>\n",
       "      <th>children</th>\n",
       "      <th>smoker</th>\n",
       "      <th>region_northeast</th>\n",
       "      <th>region_northwest</th>\n",
       "      <th>region_southeast</th>\n",
       "      <th>region_southwest</th>\n",
       "    </tr>\n",
       "  </thead>\n",
       "  <tbody>\n",
       "    <tr>\n",
       "      <th>902</th>\n",
       "      <td>26</td>\n",
       "      <td>1</td>\n",
       "      <td>27.265</td>\n",
       "      <td>3</td>\n",
       "      <td>0</td>\n",
       "      <td>1</td>\n",
       "      <td>0</td>\n",
       "      <td>0</td>\n",
       "      <td>0</td>\n",
       "    </tr>\n",
       "  </tbody>\n",
       "</table>\n",
       "</div>"
      ],
      "text/plain": [
       "     age  gender     bmi  children  smoker  region_northeast   \n",
       "902   26       1  27.265         3       0                 1  \\\n",
       "\n",
       "     region_northwest  region_southeast  region_southwest  \n",
       "902                 0                 0                 0  "
      ]
     },
     "execution_count": 20,
     "metadata": {},
     "output_type": "execute_result"
    }
   ],
   "source": [
    "x_test[55:56]"
   ]
  },
  {
   "cell_type": "code",
   "execution_count": null,
   "id": "e1382a59",
   "metadata": {},
   "outputs": [],
   "source": []
  },
  {
   "cell_type": "code",
   "execution_count": 21,
   "id": "ad6d3158",
   "metadata": {},
   "outputs": [
    {
     "data": {
      "text/plain": [
       "5491.855158482564"
      ]
     },
     "execution_count": 21,
     "metadata": {},
     "output_type": "execute_result"
    }
   ],
   "source": [
    "linear_reg.predict(x_test[55:56])[0]"
   ]
  },
  {
   "cell_type": "code",
   "execution_count": 22,
   "id": "ffa96511",
   "metadata": {},
   "outputs": [],
   "source": [
    "smoker_data  = {'no': 0, 'yes': 1}\n",
    "gender_data = {'male': 1, 'female': 0}"
   ]
  },
  {
   "cell_type": "markdown",
   "id": "715bf920",
   "metadata": {},
   "source": [
    "##### for region we need to creat seprate"
   ]
  },
  {
   "cell_type": "code",
   "execution_count": 23,
   "id": "37307cb4",
   "metadata": {},
   "outputs": [
    {
     "data": {
      "text/plain": [
       "['age',\n",
       " 'gender',\n",
       " 'bmi',\n",
       " 'children',\n",
       " 'smoker',\n",
       " 'region_northeast',\n",
       " 'region_northwest',\n",
       " 'region_southeast',\n",
       " 'region_southwest']"
      ]
     },
     "execution_count": 23,
     "metadata": {},
     "output_type": "execute_result"
    }
   ],
   "source": [
    "columns_names = x.columns.tolist()\n",
    "columns_names"
   ]
  },
  {
   "cell_type": "code",
   "execution_count": 24,
   "id": "38b97b26",
   "metadata": {},
   "outputs": [],
   "source": [
    "age = 30\n",
    "gender = 'male'\n",
    "bmi = 28.265\n",
    "children = 2\n",
    "smoker = 'yes'\n",
    "region = 'northwest'\n",
    "\n",
    "gender = gender_data[gender]\n",
    "smoker = smoker_data[smoker]\n",
    "region = 'region_'+region\n",
    "\n",
    "region_index = columns_names.index(region)\n",
    "region_index\n",
    "\n",
    "test_array = np.zeros([1,linear_reg.n_features_in_])\n",
    "test_array[0,0] = age\n",
    "test_array[0,1] = gender\n",
    "test_array[0,2] = bmi\n",
    "test_array[0,3] = children\n",
    "test_array[0,4] = smoker\n",
    "test_array[0,region_index] = 1\n",
    "\n",
    "predicted_charges = np.around(linear_reg.predict(test_array)[0],3)"
   ]
  },
  {
   "cell_type": "code",
   "execution_count": 25,
   "id": "1f3668d4",
   "metadata": {},
   "outputs": [
    {
     "data": {
      "text/plain": [
       "29988.467"
      ]
     },
     "execution_count": 25,
     "metadata": {},
     "output_type": "execute_result"
    }
   ],
   "source": [
    "predicted_charges"
   ]
  },
  {
   "cell_type": "code",
   "execution_count": null,
   "id": "f8cacd7a",
   "metadata": {},
   "outputs": [],
   "source": []
  },
  {
   "cell_type": "code",
   "execution_count": null,
   "id": "6f33deb1",
   "metadata": {},
   "outputs": [],
   "source": []
  },
  {
   "cell_type": "code",
   "execution_count": 26,
   "id": "c7044260",
   "metadata": {},
   "outputs": [],
   "source": [
    "with open ('linear_regression.pkl','wb') as f:\n",
    "    pickle.dump(linear_reg,f)"
   ]
  },
  {
   "cell_type": "code",
   "execution_count": 27,
   "id": "b6ae49b7",
   "metadata": {},
   "outputs": [],
   "source": [
    "project_data = {\"gender\": gender_data,\n",
    "                \"smoker\":smoker_data,\n",
    "                \"columns_names\":columns_names} \n",
    "with open('proj_data.json','w') as f:\n",
    "    json.dump(project_data,f)"
   ]
  },
  {
   "cell_type": "code",
   "execution_count": null,
   "id": "97e0bd2e",
   "metadata": {},
   "outputs": [],
   "source": []
  }
 ],
 "metadata": {
  "kernelspec": {
   "display_name": "Python 3 (ipykernel)",
   "language": "python",
   "name": "python3"
  },
  "language_info": {
   "codemirror_mode": {
    "name": "ipython",
    "version": 3
   },
   "file_extension": ".py",
   "mimetype": "text/x-python",
   "name": "python",
   "nbconvert_exporter": "python",
   "pygments_lexer": "ipython3",
   "version": "3.9.5"
  }
 },
 "nbformat": 4,
 "nbformat_minor": 5
}
